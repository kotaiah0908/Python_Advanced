{
 "cells": [
  {
   "cell_type": "code",
   "execution_count": 1,
   "metadata": {},
   "outputs": [],
   "source": [
    "import numpy as np\n",
    "import pandas as pd\n",
    "import os"
   ]
  },
  {
   "cell_type": "code",
   "execution_count": null,
   "metadata": {},
   "outputs": [],
   "source": [
    "# always pronounciation of technical words is most important\n",
    "# numpy should called as numpi but not numpee"
   ]
  },
  {
   "cell_type": "code",
   "execution_count": 2,
   "metadata": {},
   "outputs": [
    {
     "name": "stdout",
     "output_type": "stream",
     "text": [
      "     id accession_number          artist artistRole  artistId  \\\n",
      "0  1035           A00001   Blake, Robert     artist        38   \n",
      "1  1036           A00002   Blake, Robert     artist        38   \n",
      "2  1037           A00003   Blake, Robert     artist        38   \n",
      "3  1038           A00004   Blake, Robert     artist        38   \n",
      "4  1039           A00005  Blake, William     artist        39   \n",
      "5  1040           A00006  Blake, William     artist        39   \n",
      "\n",
      "                                               title                dateText  \\\n",
      "0  A Figure Bowing before a Seated Old Man with h...          date not known   \n",
      "1  Two Drawings of Frightened Figures, Probably f...          date not known   \n",
      "2  The Preaching of Warning. Verso: An Old Man En...                 ?c.1785   \n",
      "3     Six Drawings of Figures with Outstretched Arms          date not known   \n",
      "4  The Circle of the Lustful: Francesca da Rimini...  1826–7, reprinted 1892   \n",
      "5      Ciampolo the Barrator Tormented by the Devils  1826–7, reprinted 1892   \n",
      "\n",
      "                                              medium  \\\n",
      "0  Watercolour, ink, chalk and graphite on paper....   \n",
      "1                                  Graphite on paper   \n",
      "2        Graphite on paper. Verso: graphite on paper   \n",
      "3                                  Graphite on paper   \n",
      "4                            Line engraving on paper   \n",
      "5                            Line engraving on paper   \n",
      "\n",
      "                                          creditLine    year  acquisitionYear  \\\n",
      "0                Presented by Mrs John Richmond 1922     NaN             1922   \n",
      "1                Presented by Mrs John Richmond 1922     NaN             1922   \n",
      "2                Presented by Mrs John Richmond 1922  1785.0             1922   \n",
      "3                Presented by Mrs John Richmond 1922     NaN             1922   \n",
      "4  Purchased with the assistance of a special gra...  1826.0             1919   \n",
      "5  Purchased with the assistance of a special gra...  1826.0             1919   \n",
      "\n",
      "              dimensions  width  height  depth units  inscription  \\\n",
      "0  support: 394 x 419 mm    394     419    NaN    mm          NaN   \n",
      "1  support: 311 x 213 mm    311     213    NaN    mm          NaN   \n",
      "2  support: 343 x 467 mm    343     467    NaN    mm          NaN   \n",
      "3  support: 318 x 394 mm    318     394    NaN    mm          NaN   \n",
      "4    image: 243 x 335 mm    243     335    NaN    mm          NaN   \n",
      "5    image: 240 x 338 mm    240     338    NaN    mm          NaN   \n",
      "\n",
      "   thumbnailCopyright                                       thumbnailUrl  \\\n",
      "0                 NaN  http://www.tate.org.uk/art/images/work/A/A00/A...   \n",
      "1                 NaN  http://www.tate.org.uk/art/images/work/A/A00/A...   \n",
      "2                 NaN  http://www.tate.org.uk/art/images/work/A/A00/A...   \n",
      "3                 NaN  http://www.tate.org.uk/art/images/work/A/A00/A...   \n",
      "4                 NaN  http://www.tate.org.uk/art/images/work/A/A00/A...   \n",
      "5                 NaN  http://www.tate.org.uk/art/images/work/A/A00/A...   \n",
      "\n",
      "                                                 url  \n",
      "0  http://www.tate.org.uk/art/artworks/blake-a-fi...  \n",
      "1  http://www.tate.org.uk/art/artworks/blake-two-...  \n",
      "2  http://www.tate.org.uk/art/artworks/blake-the-...  \n",
      "3  http://www.tate.org.uk/art/artworks/blake-six-...  \n",
      "4  http://www.tate.org.uk/art/artworks/blake-the-...  \n",
      "5  http://www.tate.org.uk/art/artworks/blake-ciam...  \n"
     ]
    }
   ],
   "source": [
    "df = pd.read_csv('artwork_data.csv', nrows=6)\n",
    "print(df)"
   ]
  },
  {
   "cell_type": "code",
   "execution_count": null,
   "metadata": {},
   "outputs": [],
   "source": [
    "Cleansing the data:- \n",
    "    # how to use the id as the column whih is present in the data itself"
   ]
  },
  {
   "cell_type": "code",
   "execution_count": 3,
   "metadata": {},
   "outputs": [
    {
     "name": "stdout",
     "output_type": "stream",
     "text": [
      "     accession_number          artist artistRole  artistId  \\\n",
      "id                                                           \n",
      "1035           A00001   Blake, Robert     artist        38   \n",
      "1036           A00002   Blake, Robert     artist        38   \n",
      "1037           A00003   Blake, Robert     artist        38   \n",
      "1038           A00004   Blake, Robert     artist        38   \n",
      "1039           A00005  Blake, William     artist        39   \n",
      "1040           A00006  Blake, William     artist        39   \n",
      "\n",
      "                                                  title  \\\n",
      "id                                                        \n",
      "1035  A Figure Bowing before a Seated Old Man with h...   \n",
      "1036  Two Drawings of Frightened Figures, Probably f...   \n",
      "1037  The Preaching of Warning. Verso: An Old Man En...   \n",
      "1038     Six Drawings of Figures with Outstretched Arms   \n",
      "1039  The Circle of the Lustful: Francesca da Rimini...   \n",
      "1040      Ciampolo the Barrator Tormented by the Devils   \n",
      "\n",
      "                    dateText  \\\n",
      "id                             \n",
      "1035          date not known   \n",
      "1036          date not known   \n",
      "1037                 ?c.1785   \n",
      "1038          date not known   \n",
      "1039  1826–7, reprinted 1892   \n",
      "1040  1826–7, reprinted 1892   \n",
      "\n",
      "                                                 medium  \\\n",
      "id                                                        \n",
      "1035  Watercolour, ink, chalk and graphite on paper....   \n",
      "1036                                  Graphite on paper   \n",
      "1037        Graphite on paper. Verso: graphite on paper   \n",
      "1038                                  Graphite on paper   \n",
      "1039                            Line engraving on paper   \n",
      "1040                            Line engraving on paper   \n",
      "\n",
      "                                             creditLine    year  \\\n",
      "id                                                                \n",
      "1035                Presented by Mrs John Richmond 1922     NaN   \n",
      "1036                Presented by Mrs John Richmond 1922     NaN   \n",
      "1037                Presented by Mrs John Richmond 1922  1785.0   \n",
      "1038                Presented by Mrs John Richmond 1922     NaN   \n",
      "1039  Purchased with the assistance of a special gra...  1826.0   \n",
      "1040  Purchased with the assistance of a special gra...  1826.0   \n",
      "\n",
      "      acquisitionYear             dimensions  width  height  depth units  \\\n",
      "id                                                                         \n",
      "1035             1922  support: 394 x 419 mm    394     419    NaN    mm   \n",
      "1036             1922  support: 311 x 213 mm    311     213    NaN    mm   \n",
      "1037             1922  support: 343 x 467 mm    343     467    NaN    mm   \n",
      "1038             1922  support: 318 x 394 mm    318     394    NaN    mm   \n",
      "1039             1919    image: 243 x 335 mm    243     335    NaN    mm   \n",
      "1040             1919    image: 240 x 338 mm    240     338    NaN    mm   \n",
      "\n",
      "      inscription  thumbnailCopyright  \\\n",
      "id                                      \n",
      "1035          NaN                 NaN   \n",
      "1036          NaN                 NaN   \n",
      "1037          NaN                 NaN   \n",
      "1038          NaN                 NaN   \n",
      "1039          NaN                 NaN   \n",
      "1040          NaN                 NaN   \n",
      "\n",
      "                                           thumbnailUrl  \\\n",
      "id                                                        \n",
      "1035  http://www.tate.org.uk/art/images/work/A/A00/A...   \n",
      "1036  http://www.tate.org.uk/art/images/work/A/A00/A...   \n",
      "1037  http://www.tate.org.uk/art/images/work/A/A00/A...   \n",
      "1038  http://www.tate.org.uk/art/images/work/A/A00/A...   \n",
      "1039  http://www.tate.org.uk/art/images/work/A/A00/A...   \n",
      "1040  http://www.tate.org.uk/art/images/work/A/A00/A...   \n",
      "\n",
      "                                                    url  \n",
      "id                                                       \n",
      "1035  http://www.tate.org.uk/art/artworks/blake-a-fi...  \n",
      "1036  http://www.tate.org.uk/art/artworks/blake-two-...  \n",
      "1037  http://www.tate.org.uk/art/artworks/blake-the-...  \n",
      "1038  http://www.tate.org.uk/art/artworks/blake-six-...  \n",
      "1039  http://www.tate.org.uk/art/artworks/blake-the-...  \n",
      "1040  http://www.tate.org.uk/art/artworks/blake-ciam...  \n"
     ]
    }
   ],
   "source": [
    "df = pd.read_csv('artwork_data.csv',nrows=6,index_col ='id')\n",
    "print(df)"
   ]
  },
  {
   "cell_type": "code",
   "execution_count": null,
   "metadata": {},
   "outputs": [],
   "source": [
    "# overriding the default index  column with column in the file\n",
    "# this is called cleansing the data\n",
    "\n",
    "*** pandas is most used for cleaning the data ***"
   ]
  },
  {
   "cell_type": "code",
   "execution_count": null,
   "metadata": {},
   "outputs": [],
   "source": [
    "# sccenario \n",
    "100.csv file is havingg 20 columns\n",
    "want to display only few columns\n",
    "\n",
    "eg: need to display columns\n",
    "    firstname, lastname, emailid, number"
   ]
  },
  {
   "cell_type": "code",
   "execution_count": null,
   "metadata": {},
   "outputs": [],
   "source": [
    "# consiidering only required columns\n",
    "\n",
    "required: id & artist - only two columns"
   ]
  },
  {
   "cell_type": "code",
   "execution_count": 5,
   "metadata": {},
   "outputs": [
    {
     "name": "stdout",
     "output_type": "stream",
     "text": [
      "              artist\n",
      "id                  \n",
      "1035   Blake, Robert\n",
      "1036   Blake, Robert\n",
      "1037   Blake, Robert\n",
      "1038   Blake, Robert\n",
      "1039  Blake, William\n",
      "1040  Blake, William\n"
     ]
    }
   ],
   "source": [
    "df = pd.read_csv('artwork_data.csv',nrows =6, index_col='id',usecols=['id','artist'])\n",
    "print(df)"
   ]
  },
  {
   "cell_type": "code",
   "execution_count": null,
   "metadata": {},
   "outputs": [],
   "source": [
    "# displaying only specific ccolumns which are required is called as data cleansing"
   ]
  },
  {
   "cell_type": "code",
   "execution_count": null,
   "metadata": {},
   "outputs": [],
   "source": [
    "Clean coding:\n",
    "    clean coding is that presenting the code in simple & neat manner. So that anybody an understand that code.\n",
    "    Always ensure clear coding."
   ]
  },
  {
   "cell_type": "code",
   "execution_count": null,
   "metadata": {},
   "outputs": [],
   "source": [
    "# scenario\n",
    "required is 5 columns\n",
    "'id','artist','title','medium','year'\n"
   ]
  },
  {
   "cell_type": "code",
   "execution_count": 6,
   "metadata": {},
   "outputs": [
    {
     "name": "stdout",
     "output_type": "stream",
     "text": [
      "              artist                                              title  \\\n",
      "id                                                                        \n",
      "1035   Blake, Robert  A Figure Bowing before a Seated Old Man with h...   \n",
      "1036   Blake, Robert  Two Drawings of Frightened Figures, Probably f...   \n",
      "1037   Blake, Robert  The Preaching of Warning. Verso: An Old Man En...   \n",
      "1038   Blake, Robert     Six Drawings of Figures with Outstretched Arms   \n",
      "1039  Blake, William  The Circle of the Lustful: Francesca da Rimini...   \n",
      "1040  Blake, William      Ciampolo the Barrator Tormented by the Devils   \n",
      "\n",
      "                                                 medium    year  \n",
      "id                                                               \n",
      "1035  Watercolour, ink, chalk and graphite on paper....     NaN  \n",
      "1036                                  Graphite on paper     NaN  \n",
      "1037        Graphite on paper. Verso: graphite on paper  1785.0  \n",
      "1038                                  Graphite on paper     NaN  \n",
      "1039                            Line engraving on paper  1826.0  \n",
      "1040                            Line engraving on paper  1826.0  \n"
     ]
    }
   ],
   "source": [
    "df = pd.read_csv('artwork_data.csv',nrows =6, index_col='id', usecols=['id','artist','title','medium','year'])\n",
    "print(df)"
   ]
  },
  {
   "cell_type": "code",
   "execution_count": null,
   "metadata": {},
   "outputs": [],
   "source": [
    "# in the above statement usecolumns mentioned list is havving 5 columns\n",
    "# let us assume there are more number of columns then column list will keep on increased\n",
    "# instead of using big list , we utilize the advantage of variables."
   ]
  },
  {
   "cell_type": "code",
   "execution_count": null,
   "metadata": {},
   "outputs": [],
   "source": [
    "# below examples show how we can utilize the variable to store the column values and calling that in the statement"
   ]
  },
  {
   "cell_type": "code",
   "execution_count": 7,
   "metadata": {},
   "outputs": [],
   "source": [
    "COLS_TO_USE = ['id','artist','title','medium','year']"
   ]
  },
  {
   "cell_type": "code",
   "execution_count": 8,
   "metadata": {},
   "outputs": [
    {
     "name": "stdout",
     "output_type": "stream",
     "text": [
      "     id          artist                                              title  \\\n",
      "0  1035   Blake, Robert  A Figure Bowing before a Seated Old Man with h...   \n",
      "1  1036   Blake, Robert  Two Drawings of Frightened Figures, Probably f...   \n",
      "2  1037   Blake, Robert  The Preaching of Warning. Verso: An Old Man En...   \n",
      "3  1038   Blake, Robert     Six Drawings of Figures with Outstretched Arms   \n",
      "4  1039  Blake, William  The Circle of the Lustful: Francesca da Rimini...   \n",
      "5  1040  Blake, William      Ciampolo the Barrator Tormented by the Devils   \n",
      "\n",
      "                                              medium    year  \n",
      "0  Watercolour, ink, chalk and graphite on paper....     NaN  \n",
      "1                                  Graphite on paper     NaN  \n",
      "2        Graphite on paper. Verso: graphite on paper  1785.0  \n",
      "3                                  Graphite on paper     NaN  \n",
      "4                            Line engraving on paper  1826.0  \n",
      "5                            Line engraving on paper  1826.0  \n"
     ]
    }
   ],
   "source": [
    "df = pd.read_csv('artwork_data.csv',nrows=6,usecols=COLS_TO_USE)\n",
    "print(df)"
   ]
  },
  {
   "cell_type": "code",
   "execution_count": 12,
   "metadata": {},
   "outputs": [
    {
     "ename": "NameError",
     "evalue": "name 'data_frame' is not defined",
     "output_type": "error",
     "traceback": [
      "\u001b[1;31m---------------------------------------------------------------------------\u001b[0m",
      "\u001b[1;31mNameError\u001b[0m                                 Traceback (most recent call last)",
      "\u001b[1;32m<ipython-input-12-75c8f862b94e>\u001b[0m in \u001b[0;36m<module>\u001b[1;34m\u001b[0m\n\u001b[0;32m      1\u001b[0m \u001b[1;31m#Saving the Info:\u001b[0m\u001b[1;33m\u001b[0m\u001b[1;33m\u001b[0m\u001b[1;33m\u001b[0m\u001b[0m\n\u001b[0;32m      2\u001b[0m \u001b[1;33m\u001b[0m\u001b[0m\n\u001b[1;32m----> 3\u001b[1;33m \u001b[0mdf\u001b[0m\u001b[1;33m.\u001b[0m\u001b[0mto_pickle\u001b[0m\u001b[1;33m(\u001b[0m\u001b[0mos\u001b[0m\u001b[1;33m.\u001b[0m\u001b[0mpath\u001b[0m\u001b[1;33m.\u001b[0m\u001b[0mjoin\u001b[0m\u001b[1;33m(\u001b[0m\u001b[1;34m'..'\u001b[0m\u001b[1;33m,\u001b[0m\u001b[0mdata_frame\u001b[0m\u001b[1;33m.\u001b[0m\u001b[0mpickle\u001b[0m\u001b[1;33m)\u001b[0m\u001b[1;33m)\u001b[0m\u001b[1;33m\u001b[0m\u001b[1;33m\u001b[0m\u001b[0m\n\u001b[0m",
      "\u001b[1;31mNameError\u001b[0m: name 'data_frame' is not defined"
     ]
    }
   ],
   "source": [
    "#Saving the Info:\n",
    " \n",
    "df.to_pickle(os.path.join('..',data_frame.pickle))"
   ]
  },
  {
   "cell_type": "code",
   "execution_count": null,
   "metadata": {},
   "outputs": [],
   "source": [
    "# pickle    ---> serialization  ---> used by python"
   ]
  },
  {
   "cell_type": "code",
   "execution_count": 13,
   "metadata": {},
   "outputs": [
    {
     "ename": "KeyError",
     "evalue": "\"['artistId'] not in index\"",
     "output_type": "error",
     "traceback": [
      "\u001b[1;31m---------------------------------------------------------------------------\u001b[0m",
      "\u001b[1;31mKeyError\u001b[0m                                  Traceback (most recent call last)",
      "\u001b[1;32m<ipython-input-13-4de9b5104f74>\u001b[0m in \u001b[0;36m<module>\u001b[1;34m\u001b[0m\n\u001b[0;32m      1\u001b[0m \u001b[1;31m#Indexing & filtering the data in pandas:\u001b[0m\u001b[1;33m\u001b[0m\u001b[1;33m\u001b[0m\u001b[1;33m\u001b[0m\u001b[0m\n\u001b[1;32m----> 2\u001b[1;33m \u001b[0mdf\u001b[0m\u001b[1;33m[\u001b[0m\u001b[1;33m[\u001b[0m\u001b[1;34m'artist'\u001b[0m\u001b[1;33m,\u001b[0m\u001b[1;34m'artistId'\u001b[0m\u001b[1;33m]\u001b[0m\u001b[1;33m]\u001b[0m\u001b[1;33m\u001b[0m\u001b[1;33m\u001b[0m\u001b[0m\n\u001b[0m",
      "\u001b[1;32m~\\Anaconda3\\lib\\site-packages\\pandas\\core\\frame.py\u001b[0m in \u001b[0;36m__getitem__\u001b[1;34m(self, key)\u001b[0m\n\u001b[0;32m   2984\u001b[0m             \u001b[1;32mif\u001b[0m \u001b[0mis_iterator\u001b[0m\u001b[1;33m(\u001b[0m\u001b[0mkey\u001b[0m\u001b[1;33m)\u001b[0m\u001b[1;33m:\u001b[0m\u001b[1;33m\u001b[0m\u001b[1;33m\u001b[0m\u001b[0m\n\u001b[0;32m   2985\u001b[0m                 \u001b[0mkey\u001b[0m \u001b[1;33m=\u001b[0m \u001b[0mlist\u001b[0m\u001b[1;33m(\u001b[0m\u001b[0mkey\u001b[0m\u001b[1;33m)\u001b[0m\u001b[1;33m\u001b[0m\u001b[1;33m\u001b[0m\u001b[0m\n\u001b[1;32m-> 2986\u001b[1;33m             \u001b[0mindexer\u001b[0m \u001b[1;33m=\u001b[0m \u001b[0mself\u001b[0m\u001b[1;33m.\u001b[0m\u001b[0mloc\u001b[0m\u001b[1;33m.\u001b[0m\u001b[0m_convert_to_indexer\u001b[0m\u001b[1;33m(\u001b[0m\u001b[0mkey\u001b[0m\u001b[1;33m,\u001b[0m \u001b[0maxis\u001b[0m\u001b[1;33m=\u001b[0m\u001b[1;36m1\u001b[0m\u001b[1;33m,\u001b[0m \u001b[0mraise_missing\u001b[0m\u001b[1;33m=\u001b[0m\u001b[1;32mTrue\u001b[0m\u001b[1;33m)\u001b[0m\u001b[1;33m\u001b[0m\u001b[1;33m\u001b[0m\u001b[0m\n\u001b[0m\u001b[0;32m   2987\u001b[0m \u001b[1;33m\u001b[0m\u001b[0m\n\u001b[0;32m   2988\u001b[0m         \u001b[1;31m# take() does not accept boolean indexers\u001b[0m\u001b[1;33m\u001b[0m\u001b[1;33m\u001b[0m\u001b[1;33m\u001b[0m\u001b[0m\n",
      "\u001b[1;32m~\\Anaconda3\\lib\\site-packages\\pandas\\core\\indexing.py\u001b[0m in \u001b[0;36m_convert_to_indexer\u001b[1;34m(self, obj, axis, is_setter, raise_missing)\u001b[0m\n\u001b[0;32m   1283\u001b[0m                 \u001b[1;31m# When setting, missing keys are not allowed, even with .loc:\u001b[0m\u001b[1;33m\u001b[0m\u001b[1;33m\u001b[0m\u001b[1;33m\u001b[0m\u001b[0m\n\u001b[0;32m   1284\u001b[0m                 \u001b[0mkwargs\u001b[0m \u001b[1;33m=\u001b[0m \u001b[1;33m{\u001b[0m\u001b[1;34m\"raise_missing\"\u001b[0m\u001b[1;33m:\u001b[0m \u001b[1;32mTrue\u001b[0m \u001b[1;32mif\u001b[0m \u001b[0mis_setter\u001b[0m \u001b[1;32melse\u001b[0m \u001b[0mraise_missing\u001b[0m\u001b[1;33m}\u001b[0m\u001b[1;33m\u001b[0m\u001b[1;33m\u001b[0m\u001b[0m\n\u001b[1;32m-> 1285\u001b[1;33m                 \u001b[1;32mreturn\u001b[0m \u001b[0mself\u001b[0m\u001b[1;33m.\u001b[0m\u001b[0m_get_listlike_indexer\u001b[0m\u001b[1;33m(\u001b[0m\u001b[0mobj\u001b[0m\u001b[1;33m,\u001b[0m \u001b[0maxis\u001b[0m\u001b[1;33m,\u001b[0m \u001b[1;33m**\u001b[0m\u001b[0mkwargs\u001b[0m\u001b[1;33m)\u001b[0m\u001b[1;33m[\u001b[0m\u001b[1;36m1\u001b[0m\u001b[1;33m]\u001b[0m\u001b[1;33m\u001b[0m\u001b[1;33m\u001b[0m\u001b[0m\n\u001b[0m\u001b[0;32m   1286\u001b[0m         \u001b[1;32melse\u001b[0m\u001b[1;33m:\u001b[0m\u001b[1;33m\u001b[0m\u001b[1;33m\u001b[0m\u001b[0m\n\u001b[0;32m   1287\u001b[0m             \u001b[1;32mtry\u001b[0m\u001b[1;33m:\u001b[0m\u001b[1;33m\u001b[0m\u001b[1;33m\u001b[0m\u001b[0m\n",
      "\u001b[1;32m~\\Anaconda3\\lib\\site-packages\\pandas\\core\\indexing.py\u001b[0m in \u001b[0;36m_get_listlike_indexer\u001b[1;34m(self, key, axis, raise_missing)\u001b[0m\n\u001b[0;32m   1090\u001b[0m \u001b[1;33m\u001b[0m\u001b[0m\n\u001b[0;32m   1091\u001b[0m         self._validate_read_indexer(\n\u001b[1;32m-> 1092\u001b[1;33m             \u001b[0mkeyarr\u001b[0m\u001b[1;33m,\u001b[0m \u001b[0mindexer\u001b[0m\u001b[1;33m,\u001b[0m \u001b[0mo\u001b[0m\u001b[1;33m.\u001b[0m\u001b[0m_get_axis_number\u001b[0m\u001b[1;33m(\u001b[0m\u001b[0maxis\u001b[0m\u001b[1;33m)\u001b[0m\u001b[1;33m,\u001b[0m \u001b[0mraise_missing\u001b[0m\u001b[1;33m=\u001b[0m\u001b[0mraise_missing\u001b[0m\u001b[1;33m\u001b[0m\u001b[1;33m\u001b[0m\u001b[0m\n\u001b[0m\u001b[0;32m   1093\u001b[0m         )\n\u001b[0;32m   1094\u001b[0m         \u001b[1;32mreturn\u001b[0m \u001b[0mkeyarr\u001b[0m\u001b[1;33m,\u001b[0m \u001b[0mindexer\u001b[0m\u001b[1;33m\u001b[0m\u001b[1;33m\u001b[0m\u001b[0m\n",
      "\u001b[1;32m~\\Anaconda3\\lib\\site-packages\\pandas\\core\\indexing.py\u001b[0m in \u001b[0;36m_validate_read_indexer\u001b[1;34m(self, key, indexer, axis, raise_missing)\u001b[0m\n\u001b[0;32m   1183\u001b[0m             \u001b[1;32mif\u001b[0m \u001b[1;32mnot\u001b[0m \u001b[1;33m(\u001b[0m\u001b[0mself\u001b[0m\u001b[1;33m.\u001b[0m\u001b[0mname\u001b[0m \u001b[1;33m==\u001b[0m \u001b[1;34m\"loc\"\u001b[0m \u001b[1;32mand\u001b[0m \u001b[1;32mnot\u001b[0m \u001b[0mraise_missing\u001b[0m\u001b[1;33m)\u001b[0m\u001b[1;33m:\u001b[0m\u001b[1;33m\u001b[0m\u001b[1;33m\u001b[0m\u001b[0m\n\u001b[0;32m   1184\u001b[0m                 \u001b[0mnot_found\u001b[0m \u001b[1;33m=\u001b[0m \u001b[0mlist\u001b[0m\u001b[1;33m(\u001b[0m\u001b[0mset\u001b[0m\u001b[1;33m(\u001b[0m\u001b[0mkey\u001b[0m\u001b[1;33m)\u001b[0m \u001b[1;33m-\u001b[0m \u001b[0mset\u001b[0m\u001b[1;33m(\u001b[0m\u001b[0max\u001b[0m\u001b[1;33m)\u001b[0m\u001b[1;33m)\u001b[0m\u001b[1;33m\u001b[0m\u001b[1;33m\u001b[0m\u001b[0m\n\u001b[1;32m-> 1185\u001b[1;33m                 \u001b[1;32mraise\u001b[0m \u001b[0mKeyError\u001b[0m\u001b[1;33m(\u001b[0m\u001b[1;34m\"{} not in index\"\u001b[0m\u001b[1;33m.\u001b[0m\u001b[0mformat\u001b[0m\u001b[1;33m(\u001b[0m\u001b[0mnot_found\u001b[0m\u001b[1;33m)\u001b[0m\u001b[1;33m)\u001b[0m\u001b[1;33m\u001b[0m\u001b[1;33m\u001b[0m\u001b[0m\n\u001b[0m\u001b[0;32m   1186\u001b[0m \u001b[1;33m\u001b[0m\u001b[0m\n\u001b[0;32m   1187\u001b[0m             \u001b[1;31m# we skip the warning on Categorical/Interval\u001b[0m\u001b[1;33m\u001b[0m\u001b[1;33m\u001b[0m\u001b[1;33m\u001b[0m\u001b[0m\n",
      "\u001b[1;31mKeyError\u001b[0m: \"['artistId'] not in index\""
     ]
    }
   ],
   "source": [
    "#Indexing & filtering the data in pandas:\n",
    "df[['artist','artistId']]"
   ]
  },
  {
   "cell_type": "code",
   "execution_count": 17,
   "metadata": {},
   "outputs": [
    {
     "data": {
      "text/html": [
       "<div>\n",
       "<style scoped>\n",
       "    .dataframe tbody tr th:only-of-type {\n",
       "        vertical-align: middle;\n",
       "    }\n",
       "\n",
       "    .dataframe tbody tr th {\n",
       "        vertical-align: top;\n",
       "    }\n",
       "\n",
       "    .dataframe thead th {\n",
       "        text-align: right;\n",
       "    }\n",
       "</style>\n",
       "<table border=\"1\" class=\"dataframe\">\n",
       "  <thead>\n",
       "    <tr style=\"text-align: right;\">\n",
       "      <th></th>\n",
       "      <th>artist</th>\n",
       "      <th>title</th>\n",
       "    </tr>\n",
       "  </thead>\n",
       "  <tbody>\n",
       "    <tr>\n",
       "      <td>0</td>\n",
       "      <td>Blake, Robert</td>\n",
       "      <td>A Figure Bowing before a Seated Old Man with h...</td>\n",
       "    </tr>\n",
       "    <tr>\n",
       "      <td>1</td>\n",
       "      <td>Blake, Robert</td>\n",
       "      <td>Two Drawings of Frightened Figures, Probably f...</td>\n",
       "    </tr>\n",
       "    <tr>\n",
       "      <td>2</td>\n",
       "      <td>Blake, Robert</td>\n",
       "      <td>The Preaching of Warning. Verso: An Old Man En...</td>\n",
       "    </tr>\n",
       "    <tr>\n",
       "      <td>3</td>\n",
       "      <td>Blake, Robert</td>\n",
       "      <td>Six Drawings of Figures with Outstretched Arms</td>\n",
       "    </tr>\n",
       "    <tr>\n",
       "      <td>4</td>\n",
       "      <td>Blake, William</td>\n",
       "      <td>The Circle of the Lustful: Francesca da Rimini...</td>\n",
       "    </tr>\n",
       "    <tr>\n",
       "      <td>5</td>\n",
       "      <td>Blake, William</td>\n",
       "      <td>Ciampolo the Barrator Tormented by the Devils</td>\n",
       "    </tr>\n",
       "  </tbody>\n",
       "</table>\n",
       "</div>"
      ],
      "text/plain": [
       "           artist                                              title\n",
       "0   Blake, Robert  A Figure Bowing before a Seated Old Man with h...\n",
       "1   Blake, Robert  Two Drawings of Frightened Figures, Probably f...\n",
       "2   Blake, Robert  The Preaching of Warning. Verso: An Old Man En...\n",
       "3   Blake, Robert     Six Drawings of Figures with Outstretched Arms\n",
       "4  Blake, William  The Circle of the Lustful: Francesca da Rimini...\n",
       "5  Blake, William      Ciampolo the Barrator Tormented by the Devils"
      ]
     },
     "execution_count": 17,
     "metadata": {},
     "output_type": "execute_result"
    }
   ],
   "source": [
    "df[['artist','title']]"
   ]
  },
  {
   "cell_type": "code",
   "execution_count": 16,
   "metadata": {},
   "outputs": [
    {
     "name": "stdout",
     "output_type": "stream",
     "text": [
      "['Blake, Robert' 'Blake, William']\n",
      "2\n"
     ]
    }
   ],
   "source": [
    "# print unique record\n",
    "artists = df['artist']\n",
    "print(pd.unique(artists))\n",
    "print(len(pd.unique(artists)))\n"
   ]
  },
  {
   "cell_type": "code",
   "execution_count": null,
   "metadata": {},
   "outputs": [],
   "source": [
    "# the above is to remove the duplicates"
   ]
  },
  {
   "cell_type": "code",
   "execution_count": null,
   "metadata": {},
   "outputs": [],
   "source": [
    "#   os is refers to root path"
   ]
  },
  {
   "cell_type": "code",
   "execution_count": null,
   "metadata": {},
   "outputs": [],
   "source": []
  }
 ],
 "metadata": {
  "kernelspec": {
   "display_name": "Python 3",
   "language": "python",
   "name": "python3"
  },
  "language_info": {
   "codemirror_mode": {
    "name": "ipython",
    "version": 3
   },
   "file_extension": ".py",
   "mimetype": "text/x-python",
   "name": "python",
   "nbconvert_exporter": "python",
   "pygments_lexer": "ipython3",
   "version": "3.7.4"
  }
 },
 "nbformat": 4,
 "nbformat_minor": 2
}
